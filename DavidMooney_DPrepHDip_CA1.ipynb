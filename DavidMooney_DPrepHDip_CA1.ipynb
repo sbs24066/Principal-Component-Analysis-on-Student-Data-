{
 "cells": [
  {
   "cell_type": "markdown",
   "id": "e0c57a8d",
   "metadata": {},
   "source": [
    "David Mooney - sbs24066\n",
    "Data Prep CA1"
   ]
  },
  {
   "cell_type": "code",
   "execution_count": 1,
   "id": "1af70048",
   "metadata": {},
   "outputs": [],
   "source": [
    "#Importing libraries\n",
    "import numpy as np\n",
    "import pandas as pd\n",
    "import seaborn as sns\n",
    "pd.options.mode.copy_on_write = True #pandas protocol"
   ]
  },
  {
   "cell_type": "code",
   "execution_count": 2,
   "id": "5a90366d",
   "metadata": {},
   "outputs": [],
   "source": [
    "#calling the data sheet and storing it students_df variable\n",
    "students_df=pd.read_csv(\"student_data.csv\")"
   ]
  },
  {
   "cell_type": "markdown",
   "id": "82045a37",
   "metadata": {},
   "source": [
    "After loading the data sheet, the first step is to take a look at the first 5 rows. I used the .head() command for this."
   ]
  },
  {
   "cell_type": "code",
   "execution_count": 3,
   "id": "15e0015b",
   "metadata": {
    "scrolled": false
   },
   "outputs": [
    {
     "data": {
      "text/html": [
       "<div>\n",
       "<style scoped>\n",
       "    .dataframe tbody tr th:only-of-type {\n",
       "        vertical-align: middle;\n",
       "    }\n",
       "\n",
       "    .dataframe tbody tr th {\n",
       "        vertical-align: top;\n",
       "    }\n",
       "\n",
       "    .dataframe thead th {\n",
       "        text-align: right;\n",
       "    }\n",
       "</style>\n",
       "<table border=\"1\" class=\"dataframe\">\n",
       "  <thead>\n",
       "    <tr style=\"text-align: right;\">\n",
       "      <th></th>\n",
       "      <th>Marital status</th>\n",
       "      <th>Application mode</th>\n",
       "      <th>Application order</th>\n",
       "      <th>Course</th>\n",
       "      <th>Daytime/evening attendance</th>\n",
       "      <th>Previous qualification</th>\n",
       "      <th>Previous qualification (grade)</th>\n",
       "      <th>Nacionality</th>\n",
       "      <th>Mother's qualification</th>\n",
       "      <th>Father's qualification</th>\n",
       "      <th>...</th>\n",
       "      <th>Curricular units 2nd sem (credited)</th>\n",
       "      <th>Curricular units 2nd sem (enrolled)</th>\n",
       "      <th>Curricular units 2nd sem (evaluations)</th>\n",
       "      <th>Curricular units 2nd sem (approved)</th>\n",
       "      <th>Curricular units 2nd sem (grade)</th>\n",
       "      <th>Curricular units 2nd sem (without evaluations)</th>\n",
       "      <th>Unemployment rate</th>\n",
       "      <th>Inflation rate</th>\n",
       "      <th>GDP</th>\n",
       "      <th>Target</th>\n",
       "    </tr>\n",
       "  </thead>\n",
       "  <tbody>\n",
       "    <tr>\n",
       "      <th>0</th>\n",
       "      <td>1</td>\n",
       "      <td>17</td>\n",
       "      <td>5</td>\n",
       "      <td>171.0</td>\n",
       "      <td>1</td>\n",
       "      <td>1</td>\n",
       "      <td>122.0</td>\n",
       "      <td>1</td>\n",
       "      <td>19</td>\n",
       "      <td>12.0</td>\n",
       "      <td>...</td>\n",
       "      <td>0</td>\n",
       "      <td>0.0</td>\n",
       "      <td>0</td>\n",
       "      <td>0</td>\n",
       "      <td>0.000000</td>\n",
       "      <td>0</td>\n",
       "      <td>10.8</td>\n",
       "      <td>1.4</td>\n",
       "      <td>1.74</td>\n",
       "      <td>Dropout</td>\n",
       "    </tr>\n",
       "    <tr>\n",
       "      <th>1</th>\n",
       "      <td>1</td>\n",
       "      <td>15</td>\n",
       "      <td>1</td>\n",
       "      <td>9254.0</td>\n",
       "      <td>1</td>\n",
       "      <td>1</td>\n",
       "      <td>160.0</td>\n",
       "      <td>1</td>\n",
       "      <td>1</td>\n",
       "      <td>3.0</td>\n",
       "      <td>...</td>\n",
       "      <td>0</td>\n",
       "      <td>6.0</td>\n",
       "      <td>6</td>\n",
       "      <td>6</td>\n",
       "      <td>13.666667</td>\n",
       "      <td>0</td>\n",
       "      <td>13.9</td>\n",
       "      <td>-0.3</td>\n",
       "      <td>0.79</td>\n",
       "      <td>Graduate</td>\n",
       "    </tr>\n",
       "    <tr>\n",
       "      <th>2</th>\n",
       "      <td>1</td>\n",
       "      <td>1</td>\n",
       "      <td>5</td>\n",
       "      <td>9070.0</td>\n",
       "      <td>1</td>\n",
       "      <td>1</td>\n",
       "      <td>122.0</td>\n",
       "      <td>1</td>\n",
       "      <td>37</td>\n",
       "      <td>37.0</td>\n",
       "      <td>...</td>\n",
       "      <td>0</td>\n",
       "      <td>6.0</td>\n",
       "      <td>0</td>\n",
       "      <td>0</td>\n",
       "      <td>0.000000</td>\n",
       "      <td>0</td>\n",
       "      <td>10.8</td>\n",
       "      <td>1.4</td>\n",
       "      <td>1.74</td>\n",
       "      <td>Dropout</td>\n",
       "    </tr>\n",
       "    <tr>\n",
       "      <th>3</th>\n",
       "      <td>1</td>\n",
       "      <td>17</td>\n",
       "      <td>2</td>\n",
       "      <td>9773.0</td>\n",
       "      <td>1</td>\n",
       "      <td>1</td>\n",
       "      <td>122.0</td>\n",
       "      <td>1</td>\n",
       "      <td>38</td>\n",
       "      <td>37.0</td>\n",
       "      <td>...</td>\n",
       "      <td>0</td>\n",
       "      <td>6.0</td>\n",
       "      <td>10</td>\n",
       "      <td>5</td>\n",
       "      <td>12.400000</td>\n",
       "      <td>0</td>\n",
       "      <td>9.4</td>\n",
       "      <td>-0.8</td>\n",
       "      <td>-3.12</td>\n",
       "      <td>Graduate</td>\n",
       "    </tr>\n",
       "    <tr>\n",
       "      <th>4</th>\n",
       "      <td>2</td>\n",
       "      <td>39</td>\n",
       "      <td>1</td>\n",
       "      <td>8014.0</td>\n",
       "      <td>0</td>\n",
       "      <td>1</td>\n",
       "      <td>100.0</td>\n",
       "      <td>1</td>\n",
       "      <td>37</td>\n",
       "      <td>38.0</td>\n",
       "      <td>...</td>\n",
       "      <td>0</td>\n",
       "      <td>6.0</td>\n",
       "      <td>6</td>\n",
       "      <td>6</td>\n",
       "      <td>13.000000</td>\n",
       "      <td>0</td>\n",
       "      <td>13.9</td>\n",
       "      <td>-0.3</td>\n",
       "      <td>0.79</td>\n",
       "      <td>Graduate</td>\n",
       "    </tr>\n",
       "  </tbody>\n",
       "</table>\n",
       "<p>5 rows × 37 columns</p>\n",
       "</div>"
      ],
      "text/plain": [
       "  Marital status  Application mode  Application order  Course  \\\n",
       "0              1                17                  5   171.0   \n",
       "1              1                15                  1  9254.0   \n",
       "2              1                 1                  5  9070.0   \n",
       "3              1                17                  2  9773.0   \n",
       "4              2                39                  1  8014.0   \n",
       "\n",
       "   Daytime/evening attendance  Previous qualification  \\\n",
       "0                           1                       1   \n",
       "1                           1                       1   \n",
       "2                           1                       1   \n",
       "3                           1                       1   \n",
       "4                           0                       1   \n",
       "\n",
       "   Previous qualification (grade)  Nacionality  Mother's qualification  \\\n",
       "0                           122.0            1                      19   \n",
       "1                           160.0            1                       1   \n",
       "2                           122.0            1                      37   \n",
       "3                           122.0            1                      38   \n",
       "4                           100.0            1                      37   \n",
       "\n",
       "   Father's qualification  ...  Curricular units 2nd sem (credited)  \\\n",
       "0                    12.0  ...                                    0   \n",
       "1                     3.0  ...                                    0   \n",
       "2                    37.0  ...                                    0   \n",
       "3                    37.0  ...                                    0   \n",
       "4                    38.0  ...                                    0   \n",
       "\n",
       "   Curricular units 2nd sem (enrolled)  \\\n",
       "0                                  0.0   \n",
       "1                                  6.0   \n",
       "2                                  6.0   \n",
       "3                                  6.0   \n",
       "4                                  6.0   \n",
       "\n",
       "   Curricular units 2nd sem (evaluations) Curricular units 2nd sem (approved)  \\\n",
       "0                                       0                                   0   \n",
       "1                                       6                                   6   \n",
       "2                                       0                                   0   \n",
       "3                                      10                                   5   \n",
       "4                                       6                                   6   \n",
       "\n",
       "   Curricular units 2nd sem (grade)  \\\n",
       "0                          0.000000   \n",
       "1                         13.666667   \n",
       "2                          0.000000   \n",
       "3                         12.400000   \n",
       "4                         13.000000   \n",
       "\n",
       "   Curricular units 2nd sem (without evaluations) Unemployment rate  \\\n",
       "0                                               0              10.8   \n",
       "1                                               0              13.9   \n",
       "2                                               0              10.8   \n",
       "3                                               0               9.4   \n",
       "4                                               0              13.9   \n",
       "\n",
       "   Inflation rate   GDP    Target  \n",
       "0             1.4  1.74   Dropout  \n",
       "1            -0.3  0.79  Graduate  \n",
       "2             1.4  1.74   Dropout  \n",
       "3            -0.8 -3.12  Graduate  \n",
       "4            -0.3  0.79  Graduate  \n",
       "\n",
       "[5 rows x 37 columns]"
      ]
     },
     "execution_count": 3,
     "metadata": {},
     "output_type": "execute_result"
    }
   ],
   "source": [
    "students_df.head()"
   ]
  },
  {
   "cell_type": "markdown",
   "id": "062eb394",
   "metadata": {},
   "source": [
    "To get a full picture of the size of the entire sheet I used the .shape command. The data sheet has 4424 rows/ observations and 37 columns/features."
   ]
  },
  {
   "cell_type": "code",
   "execution_count": 4,
   "id": "fc5b7b04",
   "metadata": {},
   "outputs": [
    {
     "data": {
      "text/plain": [
       "(4424, 37)"
      ]
     },
     "execution_count": 4,
     "metadata": {},
     "output_type": "execute_result"
    }
   ],
   "source": [
    "students_df.shape"
   ]
  },
  {
   "cell_type": "markdown",
   "id": "965368b7",
   "metadata": {},
   "source": [
    "The next step is to see how the data is formatted. I used the .info() command for this.\n",
    "This confirms the number of observations -  \"RangeIndex: 4424 entries, 0 to 4423\".\n",
    "\n",
    "In the \"Non-Null Count column, I can see some of the values don't match the range index number of entries which tells me there are some missing values.\n",
    "\n",
    "Finally, by looking at the \"Dtype\" column I can see what type of data is in each column. \n",
    "Object = string data or words\n",
    "int64 = whole numbers\n",
    "float64 = numbers with deciaml places\n",
    "\n",
    "By looking at the student_data_sheet_dictionary, I can see that there is suppose to be 1 column containing object data. For example, the student_data_sheet_dictionary says the \"Marital status\" column should be Dtype - int. Instead, it says that it is Dtype - object. This tells me there is misentered data in the data sheet. Ie., a word in a place of a number. "
   ]
  },
  {
   "cell_type": "code",
   "execution_count": 5,
   "id": "580e0673",
   "metadata": {},
   "outputs": [
    {
     "name": "stdout",
     "output_type": "stream",
     "text": [
      "<class 'pandas.core.frame.DataFrame'>\n",
      "RangeIndex: 4424 entries, 0 to 4423\n",
      "Data columns (total 37 columns):\n",
      " #   Column                                          Non-Null Count  Dtype  \n",
      "---  ------                                          --------------  -----  \n",
      " 0   Marital status                                  4424 non-null   object \n",
      " 1   Application mode                                4424 non-null   int64  \n",
      " 2   Application order                               4424 non-null   int64  \n",
      " 3   Course                                          4423 non-null   float64\n",
      " 4   Daytime/evening attendance                      4424 non-null   int64  \n",
      " 5   Previous qualification                          4424 non-null   int64  \n",
      " 6   Previous qualification (grade)                  4424 non-null   float64\n",
      " 7   Nacionality                                     4424 non-null   int64  \n",
      " 8   Mother's qualification                          4424 non-null   int64  \n",
      " 9   Father's qualification                          4423 non-null   float64\n",
      " 10  Mother's occupation                             4424 non-null   int64  \n",
      " 11  Father's occupation                             4424 non-null   int64  \n",
      " 12  Admission grade                                 4423 non-null   float64\n",
      " 13  Displaced                                       4424 non-null   object \n",
      " 14  Educational special needs                       4424 non-null   int64  \n",
      " 15  Debtor                                          4423 non-null   float64\n",
      " 16  Tuition fees up to date                         4423 non-null   object \n",
      " 17  Gender                                          4424 non-null   int64  \n",
      " 18  Scholarship holder                              4424 non-null   int64  \n",
      " 19  Age at enrollment                               4424 non-null   object \n",
      " 20  International                                   4423 non-null   float64\n",
      " 21  Curricular units 1st sem (credited)             4424 non-null   object \n",
      " 22  Curricular units 1st sem (enrolled)             4424 non-null   int64  \n",
      " 23  Curricular units 1st sem (evaluations)          4424 non-null   int64  \n",
      " 24  Curricular units 1st sem (approved)             4424 non-null   int64  \n",
      " 25  Curricular units 1st sem (grade)                4423 non-null   float64\n",
      " 26  Curricular units 1st sem (without evaluations)  4424 non-null   int64  \n",
      " 27  Curricular units 2nd sem (credited)             4424 non-null   int64  \n",
      " 28  Curricular units 2nd sem (enrolled)             4423 non-null   float64\n",
      " 29  Curricular units 2nd sem (evaluations)          4424 non-null   int64  \n",
      " 30  Curricular units 2nd sem (approved)             4424 non-null   int64  \n",
      " 31  Curricular units 2nd sem (grade)                4423 non-null   float64\n",
      " 32  Curricular units 2nd sem (without evaluations)  4424 non-null   int64  \n",
      " 33  Unemployment rate                               4424 non-null   float64\n",
      " 34  Inflation rate                                  4424 non-null   float64\n",
      " 35  GDP                                             4424 non-null   float64\n",
      " 36  Target                                          4424 non-null   object \n",
      "dtypes: float64(12), int64(19), object(6)\n",
      "memory usage: 1.2+ MB\n"
     ]
    }
   ],
   "source": [
    "students_df.info()"
   ]
  },
  {
   "cell_type": "markdown",
   "id": "406a3259",
   "metadata": {},
   "source": [
    "I use the .isnull().sum() command to tell in which columns have missing data. I can see there is 9 such columns."
   ]
  },
  {
   "cell_type": "code",
   "execution_count": 6,
   "id": "a58e7642",
   "metadata": {
    "scrolled": true
   },
   "outputs": [
    {
     "data": {
      "text/plain": [
       "Marital status                                    0\n",
       "Application mode                                  0\n",
       "Application order                                 0\n",
       "Course                                            1\n",
       "Daytime/evening attendance                        0\n",
       "Previous qualification                            0\n",
       "Previous qualification (grade)                    0\n",
       "Nacionality                                       0\n",
       "Mother's qualification                            0\n",
       "Father's qualification                            1\n",
       "Mother's occupation                               0\n",
       "Father's occupation                               0\n",
       "Admission grade                                   1\n",
       "Displaced                                         0\n",
       "Educational special needs                         0\n",
       "Debtor                                            1\n",
       "Tuition fees up to date                           1\n",
       "Gender                                            0\n",
       "Scholarship holder                                0\n",
       "Age at enrollment                                 0\n",
       "International                                     1\n",
       "Curricular units 1st sem (credited)               0\n",
       "Curricular units 1st sem (enrolled)               0\n",
       "Curricular units 1st sem (evaluations)            0\n",
       "Curricular units 1st sem (approved)               0\n",
       "Curricular units 1st sem (grade)                  1\n",
       "Curricular units 1st sem (without evaluations)    0\n",
       "Curricular units 2nd sem (credited)               0\n",
       "Curricular units 2nd sem (enrolled)               1\n",
       "Curricular units 2nd sem (evaluations)            0\n",
       "Curricular units 2nd sem (approved)               0\n",
       "Curricular units 2nd sem (grade)                  1\n",
       "Curricular units 2nd sem (without evaluations)    0\n",
       "Unemployment rate                                 0\n",
       "Inflation rate                                    0\n",
       "GDP                                               0\n",
       "Target                                            0\n",
       "dtype: int64"
      ]
     },
     "execution_count": 6,
     "metadata": {},
     "output_type": "execute_result"
    }
   ],
   "source": [
    "students_df.isnull().sum()"
   ]
  },
  {
   "cell_type": "markdown",
   "id": "6d888a77",
   "metadata": {},
   "source": [
    "The .describe() command shows me a few few key facts about the data. They are as follows:\n",
    "Mean\n",
    "Standard Deviation\n",
    "Minimum value\n",
    "The quartile value\n",
    "The Median value\n",
    "The Three quarters value\n",
    "The Maximum Value\n",
    "\n",
    "I can use these paramaters to check if the data is evenly distributed which will dictate how I proceed to fill in the missing data. \n",
    "\n",
    "If the mean and median are similar the data in these columns is normally distributed.\n",
    "If the mean and median are far apart the data in these columns is skewed.\n",
    "If there are lots of zeros in each column it is sparse data."
   ]
  },
  {
   "cell_type": "code",
   "execution_count": 7,
   "id": "efcae9da",
   "metadata": {},
   "outputs": [
    {
     "data": {
      "text/html": [
       "<div>\n",
       "<style scoped>\n",
       "    .dataframe tbody tr th:only-of-type {\n",
       "        vertical-align: middle;\n",
       "    }\n",
       "\n",
       "    .dataframe tbody tr th {\n",
       "        vertical-align: top;\n",
       "    }\n",
       "\n",
       "    .dataframe thead th {\n",
       "        text-align: right;\n",
       "    }\n",
       "</style>\n",
       "<table border=\"1\" class=\"dataframe\">\n",
       "  <thead>\n",
       "    <tr style=\"text-align: right;\">\n",
       "      <th></th>\n",
       "      <th>Application mode</th>\n",
       "      <th>Application order</th>\n",
       "      <th>Course</th>\n",
       "      <th>Daytime/evening attendance</th>\n",
       "      <th>Previous qualification</th>\n",
       "      <th>Previous qualification (grade)</th>\n",
       "      <th>Nacionality</th>\n",
       "      <th>Mother's qualification</th>\n",
       "      <th>Father's qualification</th>\n",
       "      <th>Mother's occupation</th>\n",
       "      <th>...</th>\n",
       "      <th>Curricular units 1st sem (without evaluations)</th>\n",
       "      <th>Curricular units 2nd sem (credited)</th>\n",
       "      <th>Curricular units 2nd sem (enrolled)</th>\n",
       "      <th>Curricular units 2nd sem (evaluations)</th>\n",
       "      <th>Curricular units 2nd sem (approved)</th>\n",
       "      <th>Curricular units 2nd sem (grade)</th>\n",
       "      <th>Curricular units 2nd sem (without evaluations)</th>\n",
       "      <th>Unemployment rate</th>\n",
       "      <th>Inflation rate</th>\n",
       "      <th>GDP</th>\n",
       "    </tr>\n",
       "  </thead>\n",
       "  <tbody>\n",
       "    <tr>\n",
       "      <th>count</th>\n",
       "      <td>4424.000000</td>\n",
       "      <td>4424.000000</td>\n",
       "      <td>4423.000000</td>\n",
       "      <td>4424.000000</td>\n",
       "      <td>4424.000000</td>\n",
       "      <td>4424.000000</td>\n",
       "      <td>4424.000000</td>\n",
       "      <td>4424.000000</td>\n",
       "      <td>4423.000000</td>\n",
       "      <td>4424.000000</td>\n",
       "      <td>...</td>\n",
       "      <td>4424.000000</td>\n",
       "      <td>4424.000000</td>\n",
       "      <td>4423.000000</td>\n",
       "      <td>4424.000000</td>\n",
       "      <td>4424.000000</td>\n",
       "      <td>4423.000000</td>\n",
       "      <td>4424.000000</td>\n",
       "      <td>4424.000000</td>\n",
       "      <td>4424.000000</td>\n",
       "      <td>4424.000000</td>\n",
       "    </tr>\n",
       "    <tr>\n",
       "      <th>mean</th>\n",
       "      <td>18.669078</td>\n",
       "      <td>1.727848</td>\n",
       "      <td>8856.458738</td>\n",
       "      <td>0.890823</td>\n",
       "      <td>4.577758</td>\n",
       "      <td>132.613314</td>\n",
       "      <td>1.873192</td>\n",
       "      <td>19.561935</td>\n",
       "      <td>22.271987</td>\n",
       "      <td>10.960895</td>\n",
       "      <td>...</td>\n",
       "      <td>0.137658</td>\n",
       "      <td>0.541817</td>\n",
       "      <td>6.231743</td>\n",
       "      <td>8.063291</td>\n",
       "      <td>4.435805</td>\n",
       "      <td>10.229941</td>\n",
       "      <td>0.150316</td>\n",
       "      <td>11.566139</td>\n",
       "      <td>1.228029</td>\n",
       "      <td>0.001969</td>\n",
       "    </tr>\n",
       "    <tr>\n",
       "      <th>std</th>\n",
       "      <td>17.484682</td>\n",
       "      <td>1.313793</td>\n",
       "      <td>2063.763479</td>\n",
       "      <td>0.311897</td>\n",
       "      <td>10.216592</td>\n",
       "      <td>13.188332</td>\n",
       "      <td>6.914514</td>\n",
       "      <td>15.603186</td>\n",
       "      <td>15.343244</td>\n",
       "      <td>26.418253</td>\n",
       "      <td>...</td>\n",
       "      <td>0.690880</td>\n",
       "      <td>1.918546</td>\n",
       "      <td>2.196038</td>\n",
       "      <td>3.947951</td>\n",
       "      <td>3.014764</td>\n",
       "      <td>5.211367</td>\n",
       "      <td>0.753774</td>\n",
       "      <td>2.663850</td>\n",
       "      <td>1.382711</td>\n",
       "      <td>2.269935</td>\n",
       "    </tr>\n",
       "    <tr>\n",
       "      <th>min</th>\n",
       "      <td>1.000000</td>\n",
       "      <td>0.000000</td>\n",
       "      <td>33.000000</td>\n",
       "      <td>0.000000</td>\n",
       "      <td>1.000000</td>\n",
       "      <td>95.000000</td>\n",
       "      <td>1.000000</td>\n",
       "      <td>1.000000</td>\n",
       "      <td>1.000000</td>\n",
       "      <td>0.000000</td>\n",
       "      <td>...</td>\n",
       "      <td>0.000000</td>\n",
       "      <td>0.000000</td>\n",
       "      <td>0.000000</td>\n",
       "      <td>0.000000</td>\n",
       "      <td>0.000000</td>\n",
       "      <td>0.000000</td>\n",
       "      <td>0.000000</td>\n",
       "      <td>7.600000</td>\n",
       "      <td>-0.800000</td>\n",
       "      <td>-4.060000</td>\n",
       "    </tr>\n",
       "    <tr>\n",
       "      <th>25%</th>\n",
       "      <td>1.000000</td>\n",
       "      <td>1.000000</td>\n",
       "      <td>9085.000000</td>\n",
       "      <td>1.000000</td>\n",
       "      <td>1.000000</td>\n",
       "      <td>125.000000</td>\n",
       "      <td>1.000000</td>\n",
       "      <td>2.000000</td>\n",
       "      <td>3.000000</td>\n",
       "      <td>4.000000</td>\n",
       "      <td>...</td>\n",
       "      <td>0.000000</td>\n",
       "      <td>0.000000</td>\n",
       "      <td>5.000000</td>\n",
       "      <td>6.000000</td>\n",
       "      <td>2.000000</td>\n",
       "      <td>10.750000</td>\n",
       "      <td>0.000000</td>\n",
       "      <td>9.400000</td>\n",
       "      <td>0.300000</td>\n",
       "      <td>-1.700000</td>\n",
       "    </tr>\n",
       "    <tr>\n",
       "      <th>50%</th>\n",
       "      <td>17.000000</td>\n",
       "      <td>1.000000</td>\n",
       "      <td>9238.000000</td>\n",
       "      <td>1.000000</td>\n",
       "      <td>1.000000</td>\n",
       "      <td>133.100000</td>\n",
       "      <td>1.000000</td>\n",
       "      <td>19.000000</td>\n",
       "      <td>19.000000</td>\n",
       "      <td>5.000000</td>\n",
       "      <td>...</td>\n",
       "      <td>0.000000</td>\n",
       "      <td>0.000000</td>\n",
       "      <td>6.000000</td>\n",
       "      <td>8.000000</td>\n",
       "      <td>5.000000</td>\n",
       "      <td>12.200000</td>\n",
       "      <td>0.000000</td>\n",
       "      <td>11.100000</td>\n",
       "      <td>1.400000</td>\n",
       "      <td>0.320000</td>\n",
       "    </tr>\n",
       "    <tr>\n",
       "      <th>75%</th>\n",
       "      <td>39.000000</td>\n",
       "      <td>2.000000</td>\n",
       "      <td>9556.000000</td>\n",
       "      <td>1.000000</td>\n",
       "      <td>1.000000</td>\n",
       "      <td>140.000000</td>\n",
       "      <td>1.000000</td>\n",
       "      <td>37.000000</td>\n",
       "      <td>37.000000</td>\n",
       "      <td>9.000000</td>\n",
       "      <td>...</td>\n",
       "      <td>0.000000</td>\n",
       "      <td>0.000000</td>\n",
       "      <td>7.000000</td>\n",
       "      <td>10.000000</td>\n",
       "      <td>6.000000</td>\n",
       "      <td>13.333333</td>\n",
       "      <td>0.000000</td>\n",
       "      <td>13.900000</td>\n",
       "      <td>2.600000</td>\n",
       "      <td>1.790000</td>\n",
       "    </tr>\n",
       "    <tr>\n",
       "      <th>max</th>\n",
       "      <td>57.000000</td>\n",
       "      <td>9.000000</td>\n",
       "      <td>9991.000000</td>\n",
       "      <td>1.000000</td>\n",
       "      <td>43.000000</td>\n",
       "      <td>190.000000</td>\n",
       "      <td>109.000000</td>\n",
       "      <td>44.000000</td>\n",
       "      <td>44.000000</td>\n",
       "      <td>194.000000</td>\n",
       "      <td>...</td>\n",
       "      <td>12.000000</td>\n",
       "      <td>19.000000</td>\n",
       "      <td>23.000000</td>\n",
       "      <td>33.000000</td>\n",
       "      <td>20.000000</td>\n",
       "      <td>18.571429</td>\n",
       "      <td>12.000000</td>\n",
       "      <td>16.200000</td>\n",
       "      <td>3.700000</td>\n",
       "      <td>3.510000</td>\n",
       "    </tr>\n",
       "  </tbody>\n",
       "</table>\n",
       "<p>8 rows × 31 columns</p>\n",
       "</div>"
      ],
      "text/plain": [
       "       Application mode  Application order       Course  \\\n",
       "count       4424.000000        4424.000000  4423.000000   \n",
       "mean          18.669078           1.727848  8856.458738   \n",
       "std           17.484682           1.313793  2063.763479   \n",
       "min            1.000000           0.000000    33.000000   \n",
       "25%            1.000000           1.000000  9085.000000   \n",
       "50%           17.000000           1.000000  9238.000000   \n",
       "75%           39.000000           2.000000  9556.000000   \n",
       "max           57.000000           9.000000  9991.000000   \n",
       "\n",
       "       Daytime/evening attendance  Previous qualification  \\\n",
       "count                 4424.000000             4424.000000   \n",
       "mean                     0.890823                4.577758   \n",
       "std                      0.311897               10.216592   \n",
       "min                      0.000000                1.000000   \n",
       "25%                      1.000000                1.000000   \n",
       "50%                      1.000000                1.000000   \n",
       "75%                      1.000000                1.000000   \n",
       "max                      1.000000               43.000000   \n",
       "\n",
       "       Previous qualification (grade)  Nacionality  Mother's qualification  \\\n",
       "count                     4424.000000  4424.000000             4424.000000   \n",
       "mean                       132.613314     1.873192               19.561935   \n",
       "std                         13.188332     6.914514               15.603186   \n",
       "min                         95.000000     1.000000                1.000000   \n",
       "25%                        125.000000     1.000000                2.000000   \n",
       "50%                        133.100000     1.000000               19.000000   \n",
       "75%                        140.000000     1.000000               37.000000   \n",
       "max                        190.000000   109.000000               44.000000   \n",
       "\n",
       "       Father's qualification  Mother's occupation  ...  \\\n",
       "count             4423.000000          4424.000000  ...   \n",
       "mean                22.271987            10.960895  ...   \n",
       "std                 15.343244            26.418253  ...   \n",
       "min                  1.000000             0.000000  ...   \n",
       "25%                  3.000000             4.000000  ...   \n",
       "50%                 19.000000             5.000000  ...   \n",
       "75%                 37.000000             9.000000  ...   \n",
       "max                 44.000000           194.000000  ...   \n",
       "\n",
       "       Curricular units 1st sem (without evaluations)  \\\n",
       "count                                     4424.000000   \n",
       "mean                                         0.137658   \n",
       "std                                          0.690880   \n",
       "min                                          0.000000   \n",
       "25%                                          0.000000   \n",
       "50%                                          0.000000   \n",
       "75%                                          0.000000   \n",
       "max                                         12.000000   \n",
       "\n",
       "       Curricular units 2nd sem (credited)  \\\n",
       "count                          4424.000000   \n",
       "mean                              0.541817   \n",
       "std                               1.918546   \n",
       "min                               0.000000   \n",
       "25%                               0.000000   \n",
       "50%                               0.000000   \n",
       "75%                               0.000000   \n",
       "max                              19.000000   \n",
       "\n",
       "       Curricular units 2nd sem (enrolled)  \\\n",
       "count                          4423.000000   \n",
       "mean                              6.231743   \n",
       "std                               2.196038   \n",
       "min                               0.000000   \n",
       "25%                               5.000000   \n",
       "50%                               6.000000   \n",
       "75%                               7.000000   \n",
       "max                              23.000000   \n",
       "\n",
       "       Curricular units 2nd sem (evaluations)  \\\n",
       "count                             4424.000000   \n",
       "mean                                 8.063291   \n",
       "std                                  3.947951   \n",
       "min                                  0.000000   \n",
       "25%                                  6.000000   \n",
       "50%                                  8.000000   \n",
       "75%                                 10.000000   \n",
       "max                                 33.000000   \n",
       "\n",
       "       Curricular units 2nd sem (approved)  Curricular units 2nd sem (grade)  \\\n",
       "count                          4424.000000                       4423.000000   \n",
       "mean                              4.435805                         10.229941   \n",
       "std                               3.014764                          5.211367   \n",
       "min                               0.000000                          0.000000   \n",
       "25%                               2.000000                         10.750000   \n",
       "50%                               5.000000                         12.200000   \n",
       "75%                               6.000000                         13.333333   \n",
       "max                              20.000000                         18.571429   \n",
       "\n",
       "       Curricular units 2nd sem (without evaluations)  Unemployment rate  \\\n",
       "count                                     4424.000000        4424.000000   \n",
       "mean                                         0.150316          11.566139   \n",
       "std                                          0.753774           2.663850   \n",
       "min                                          0.000000           7.600000   \n",
       "25%                                          0.000000           9.400000   \n",
       "50%                                          0.000000          11.100000   \n",
       "75%                                          0.000000          13.900000   \n",
       "max                                         12.000000          16.200000   \n",
       "\n",
       "       Inflation rate          GDP  \n",
       "count     4424.000000  4424.000000  \n",
       "mean         1.228029     0.001969  \n",
       "std          1.382711     2.269935  \n",
       "min         -0.800000    -4.060000  \n",
       "25%          0.300000    -1.700000  \n",
       "50%          1.400000     0.320000  \n",
       "75%          2.600000     1.790000  \n",
       "max          3.700000     3.510000  \n",
       "\n",
       "[8 rows x 31 columns]"
      ]
     },
     "execution_count": 7,
     "metadata": {},
     "output_type": "execute_result"
    }
   ],
   "source": [
    "students_df.describe() "
   ]
  },
  {
   "cell_type": "markdown",
   "id": "a5e6fb07",
   "metadata": {},
   "source": [
    "The following step is taken to point show me all the Dtype - objects in the data sheet. By looking at the \"Top\" row I can see there are numbers in every column except the \"Target\" column. I know from looking at the student dictionary that the \"Target\" column is categorical. Categorical data is data split into smaller groups/ sub-sections. (Busayo Longe, 2024)\n",
    "\n",
    "\n",
    "\n",
    "Reference:\n",
    "Busayo Longe, (2024) - Categorical Data: Definition + [Examples, Variables & Analysis] [online], available: https://www.formpl.us/blog/https//www.formpl.us/blog/categorical-data [accessed 2 Apr 2024].\n",
    "\n"
   ]
  },
  {
   "cell_type": "code",
   "execution_count": 8,
   "id": "40ca0c3f",
   "metadata": {},
   "outputs": [
    {
     "data": {
      "text/html": [
       "<div>\n",
       "<style scoped>\n",
       "    .dataframe tbody tr th:only-of-type {\n",
       "        vertical-align: middle;\n",
       "    }\n",
       "\n",
       "    .dataframe tbody tr th {\n",
       "        vertical-align: top;\n",
       "    }\n",
       "\n",
       "    .dataframe thead th {\n",
       "        text-align: right;\n",
       "    }\n",
       "</style>\n",
       "<table border=\"1\" class=\"dataframe\">\n",
       "  <thead>\n",
       "    <tr style=\"text-align: right;\">\n",
       "      <th></th>\n",
       "      <th>Marital status</th>\n",
       "      <th>Displaced</th>\n",
       "      <th>Tuition fees up to date</th>\n",
       "      <th>Age at enrollment</th>\n",
       "      <th>Curricular units 1st sem (credited)</th>\n",
       "      <th>Target</th>\n",
       "    </tr>\n",
       "  </thead>\n",
       "  <tbody>\n",
       "    <tr>\n",
       "      <th>count</th>\n",
       "      <td>4424</td>\n",
       "      <td>4424</td>\n",
       "      <td>4423</td>\n",
       "      <td>4424</td>\n",
       "      <td>4424</td>\n",
       "      <td>4424</td>\n",
       "    </tr>\n",
       "    <tr>\n",
       "      <th>unique</th>\n",
       "      <td>7</td>\n",
       "      <td>3</td>\n",
       "      <td>3</td>\n",
       "      <td>47</td>\n",
       "      <td>22</td>\n",
       "      <td>7</td>\n",
       "    </tr>\n",
       "    <tr>\n",
       "      <th>top</th>\n",
       "      <td>1</td>\n",
       "      <td>1</td>\n",
       "      <td>1</td>\n",
       "      <td>18</td>\n",
       "      <td>0</td>\n",
       "      <td>Graduate</td>\n",
       "    </tr>\n",
       "    <tr>\n",
       "      <th>freq</th>\n",
       "      <td>3918</td>\n",
       "      <td>2425</td>\n",
       "      <td>3895</td>\n",
       "      <td>1036</td>\n",
       "      <td>3847</td>\n",
       "      <td>2207</td>\n",
       "    </tr>\n",
       "  </tbody>\n",
       "</table>\n",
       "</div>"
      ],
      "text/plain": [
       "       Marital status Displaced Tuition fees up to date Age at enrollment  \\\n",
       "count            4424      4424                    4423              4424   \n",
       "unique              7         3                       3                47   \n",
       "top                 1         1                       1                18   \n",
       "freq             3918      2425                    3895              1036   \n",
       "\n",
       "       Curricular units 1st sem (credited)    Target  \n",
       "count                                 4424      4424  \n",
       "unique                                  22         7  \n",
       "top                                      0  Graduate  \n",
       "freq                                  3847      2207  "
      ]
     },
     "execution_count": 8,
     "metadata": {},
     "output_type": "execute_result"
    }
   ],
   "source": [
    "students_df.describe(include = \"object\")"
   ]
  },
  {
   "cell_type": "markdown",
   "id": "79aab881",
   "metadata": {},
   "source": [
    "To find the unwnated entries in each column I use the .unique() command. This instantly tell me all the unique or solitary values contained in a column.\n",
    "\n",
    "I performed this on the all columns. I am showing only the ones that have misentered data. The follwinf columns had such data:\n",
    "\n",
    "\"Tuition fees up to date\"\n",
    "\"Curricular units 1st sem (credited)\"\n",
    "\"Marital status\"\n",
    "\"Age at enrollment\"\n",
    "\"Target\"\n",
    "\n",
    "\"nan\" stands for not a number. The pandas library inserts nan into columns and rows where no observation has been made. Ie., the space is empty. "
   ]
  },
  {
   "cell_type": "code",
   "execution_count": 9,
   "id": "68e0fab4",
   "metadata": {},
   "outputs": [
    {
     "data": {
      "text/plain": [
       "array(['1', '0', nan, '?'], dtype=object)"
      ]
     },
     "execution_count": 9,
     "metadata": {},
     "output_type": "execute_result"
    }
   ],
   "source": [
    "students_df[\"Tuition fees up to date\"].unique() #Should be Integer"
   ]
  },
  {
   "cell_type": "code",
   "execution_count": 10,
   "id": "7786a9f0",
   "metadata": {},
   "outputs": [
    {
     "data": {
      "text/plain": [
       "array(['0', '2', '3', '6', '7', '13', '4', '1', '5', '19', '11', '8',\n",
       "       '10', '9', '15', '12', '14', '18', '17', '16', '20', 'Na'],\n",
       "      dtype=object)"
      ]
     },
     "execution_count": 10,
     "metadata": {},
     "output_type": "execute_result"
    }
   ],
   "source": [
    "students_df[\"Curricular units 1st sem (credited)\"].unique() #Should be Integer"
   ]
  },
  {
   "cell_type": "code",
   "execution_count": 11,
   "id": "598be0ec",
   "metadata": {},
   "outputs": [
    {
     "data": {
      "text/plain": [
       "array(['1', '2', '4', '?', '3', '5', '6'], dtype=object)"
      ]
     },
     "execution_count": 11,
     "metadata": {},
     "output_type": "execute_result"
    }
   ],
   "source": [
    "students_df[\"Marital status\"].unique() #Should be Integer"
   ]
  },
  {
   "cell_type": "code",
   "execution_count": 12,
   "id": "93a7c2f7",
   "metadata": {
    "scrolled": false
   },
   "outputs": [
    {
     "data": {
      "text/plain": [
       "array(['20', '19', '45', '50', '18', '22', '21', '34', '37', '43', '55',\n",
       "       '39', '29', '24', '27', '23', '26', '33', '35', '25', '44', '36',\n",
       "       '47', '28', '38', 'UnKnown', '30', '31', '32', '40', '42', '48',\n",
       "       '49', '46', '41', '70', '60', '53', '51', '52', '54', '61', '58',\n",
       "       '59', '17', '57', '62'], dtype=object)"
      ]
     },
     "execution_count": 12,
     "metadata": {},
     "output_type": "execute_result"
    }
   ],
   "source": [
    "students_df[\"Age at enrollment\"].unique() #Should be Integer"
   ]
  },
  {
   "cell_type": "markdown",
   "id": "b047f539",
   "metadata": {},
   "source": [
    "The \"Target\" column has 7 categories. The student dictionary says there are only suppose to be 3. This will have to be rectified. Origianlly, I tried doing this now but after I performed PCA later in the assignment, I kept getting unexpecting Nan values. I was unsure why this was the case. However, it worked when I did it after PCA. "
   ]
  },
  {
   "cell_type": "code",
   "execution_count": 13,
   "id": "5b9db0fd",
   "metadata": {},
   "outputs": [
    {
     "data": {
      "text/plain": [
       "array(['Dropout', 'Graduate', 'Enrolled', 'Grad', 'graduate', 'Drop',\n",
       "       'dropout'], dtype=object)"
      ]
     },
     "execution_count": 13,
     "metadata": {},
     "output_type": "execute_result"
    }
   ],
   "source": [
    "students_df[\"Target\"].unique() #needs to be three values according to the data dictionary"
   ]
  },
  {
   "cell_type": "markdown",
   "id": "c561b693",
   "metadata": {},
   "source": [
    "After establishing all the unwanted characters in the data sheet, I stored their values in the variable \"missing values\". "
   ]
  },
  {
   "cell_type": "code",
   "execution_count": 14,
   "id": "cb902320",
   "metadata": {},
   "outputs": [],
   "source": [
    "missing_values = [\"?\", \" \", \"UnKnown\", \"Na\"]"
   ]
  },
  {
   "cell_type": "markdown",
   "id": "a3cc0238",
   "metadata": {},
   "source": [
    "My next step was to make a new data sheet and store it in the variable \"df_students_new\". When i plug my \"missing variables\" variable into this new data sheet, it locates alll the values I have specified and inserts a nan value. "
   ]
  },
  {
   "cell_type": "code",
   "execution_count": 15,
   "id": "43709753",
   "metadata": {},
   "outputs": [],
   "source": [
    "df_students_new = pd.read_csv(\"student_data.csv\", na_values=missing_values)"
   ]
  },
  {
   "cell_type": "markdown",
   "id": "cc6208a3",
   "metadata": {},
   "source": [
    "I now have to take action against all the missing data in the data sheet. I decided to remove all the categorical data columns as they had little or no correlation to the \"Target\"column or the context of the assignment which, in my opinoin, is to establish if someone has graduated, dropped out or been enrolled."
   ]
  },
  {
   "cell_type": "code",
   "execution_count": 16,
   "id": "8dd01229",
   "metadata": {},
   "outputs": [],
   "source": [
    "df_students_new = df_students_new.drop(columns = [\"Marital status\", \"Mother's qualification\", \n",
    "                                                 \"Father's qualification\", \"Mother's occupation\",\n",
    "                                                 \"Father's occupation\" , \"Nacionality\", \"Debtor\", \n",
    "                                                 \"Tuition fees up to date\", \"International\", \"Scholarship holder\",\n",
    "                                                 \"Previous qualification\", \"Previous qualification (grade)\",\n",
    "                                                 \"Daytime/evening attendance\", \"Displaced\", \"Educational special needs\",\n",
    "                                                 \"Application order\", \"Application order\",\"Application mode\", \"Gender\",\n",
    "                                                 \"Course\"])"
   ]
  },
  {
   "cell_type": "markdown",
   "id": "3212f015",
   "metadata": {},
   "source": [
    "The remianing columns with missing data are seen below. "
   ]
  },
  {
   "cell_type": "code",
   "execution_count": 17,
   "id": "66a85afd",
   "metadata": {},
   "outputs": [
    {
     "data": {
      "text/plain": [
       "Admission grade                                   1\n",
       "Age at enrollment                                 1\n",
       "Curricular units 1st sem (credited)               1\n",
       "Curricular units 1st sem (enrolled)               0\n",
       "Curricular units 1st sem (evaluations)            0\n",
       "Curricular units 1st sem (approved)               0\n",
       "Curricular units 1st sem (grade)                  1\n",
       "Curricular units 1st sem (without evaluations)    0\n",
       "Curricular units 2nd sem (credited)               0\n",
       "Curricular units 2nd sem (enrolled)               1\n",
       "Curricular units 2nd sem (evaluations)            0\n",
       "Curricular units 2nd sem (approved)               0\n",
       "Curricular units 2nd sem (grade)                  1\n",
       "Curricular units 2nd sem (without evaluations)    0\n",
       "Unemployment rate                                 0\n",
       "Inflation rate                                    0\n",
       "GDP                                               0\n",
       "Target                                            0\n",
       "dtype: int64"
      ]
     },
     "execution_count": 17,
     "metadata": {},
     "output_type": "execute_result"
    }
   ],
   "source": [
    "df_students_new.isnull().sum()"
   ]
  },
  {
   "cell_type": "markdown",
   "id": "b255a276",
   "metadata": {},
   "source": [
    "All the columns are formatted correctly as can be seen in the Dtype column below."
   ]
  },
  {
   "cell_type": "code",
   "execution_count": 18,
   "id": "6a2867cf",
   "metadata": {},
   "outputs": [
    {
     "name": "stdout",
     "output_type": "stream",
     "text": [
      "<class 'pandas.core.frame.DataFrame'>\n",
      "RangeIndex: 4424 entries, 0 to 4423\n",
      "Data columns (total 18 columns):\n",
      " #   Column                                          Non-Null Count  Dtype  \n",
      "---  ------                                          --------------  -----  \n",
      " 0   Admission grade                                 4423 non-null   float64\n",
      " 1   Age at enrollment                               4423 non-null   float64\n",
      " 2   Curricular units 1st sem (credited)             4423 non-null   float64\n",
      " 3   Curricular units 1st sem (enrolled)             4424 non-null   int64  \n",
      " 4   Curricular units 1st sem (evaluations)          4424 non-null   int64  \n",
      " 5   Curricular units 1st sem (approved)             4424 non-null   int64  \n",
      " 6   Curricular units 1st sem (grade)                4423 non-null   float64\n",
      " 7   Curricular units 1st sem (without evaluations)  4424 non-null   int64  \n",
      " 8   Curricular units 2nd sem (credited)             4424 non-null   int64  \n",
      " 9   Curricular units 2nd sem (enrolled)             4423 non-null   float64\n",
      " 10  Curricular units 2nd sem (evaluations)          4424 non-null   int64  \n",
      " 11  Curricular units 2nd sem (approved)             4424 non-null   int64  \n",
      " 12  Curricular units 2nd sem (grade)                4423 non-null   float64\n",
      " 13  Curricular units 2nd sem (without evaluations)  4424 non-null   int64  \n",
      " 14  Unemployment rate                               4424 non-null   float64\n",
      " 15  Inflation rate                                  4424 non-null   float64\n",
      " 16  GDP                                             4424 non-null   float64\n",
      " 17  Target                                          4424 non-null   object \n",
      "dtypes: float64(9), int64(8), object(1)\n",
      "memory usage: 622.3+ KB\n"
     ]
    }
   ],
   "source": [
    "df_students_new.info()"
   ]
  },
  {
   "cell_type": "markdown",
   "id": "fd221489",
   "metadata": {},
   "source": [
    "Next I check how the remaining columns are distributed. This will dictate how I proceed the missing data."
   ]
  },
  {
   "cell_type": "code",
   "execution_count": 19,
   "id": "134df1b9",
   "metadata": {},
   "outputs": [
    {
     "data": {
      "text/html": [
       "<div>\n",
       "<style scoped>\n",
       "    .dataframe tbody tr th:only-of-type {\n",
       "        vertical-align: middle;\n",
       "    }\n",
       "\n",
       "    .dataframe tbody tr th {\n",
       "        vertical-align: top;\n",
       "    }\n",
       "\n",
       "    .dataframe thead th {\n",
       "        text-align: right;\n",
       "    }\n",
       "</style>\n",
       "<table border=\"1\" class=\"dataframe\">\n",
       "  <thead>\n",
       "    <tr style=\"text-align: right;\">\n",
       "      <th></th>\n",
       "      <th>Admission grade</th>\n",
       "      <th>Age at enrollment</th>\n",
       "      <th>Curricular units 1st sem (credited)</th>\n",
       "      <th>Curricular units 1st sem (enrolled)</th>\n",
       "      <th>Curricular units 1st sem (evaluations)</th>\n",
       "      <th>Curricular units 1st sem (approved)</th>\n",
       "      <th>Curricular units 1st sem (grade)</th>\n",
       "      <th>Curricular units 1st sem (without evaluations)</th>\n",
       "      <th>Curricular units 2nd sem (credited)</th>\n",
       "      <th>Curricular units 2nd sem (enrolled)</th>\n",
       "      <th>Curricular units 2nd sem (evaluations)</th>\n",
       "      <th>Curricular units 2nd sem (approved)</th>\n",
       "      <th>Curricular units 2nd sem (grade)</th>\n",
       "      <th>Curricular units 2nd sem (without evaluations)</th>\n",
       "      <th>Unemployment rate</th>\n",
       "      <th>Inflation rate</th>\n",
       "      <th>GDP</th>\n",
       "    </tr>\n",
       "  </thead>\n",
       "  <tbody>\n",
       "    <tr>\n",
       "      <th>count</th>\n",
       "      <td>4423.000000</td>\n",
       "      <td>4423.000000</td>\n",
       "      <td>4423.000000</td>\n",
       "      <td>4424.000000</td>\n",
       "      <td>4424.000000</td>\n",
       "      <td>4424.000000</td>\n",
       "      <td>4423.000000</td>\n",
       "      <td>4424.000000</td>\n",
       "      <td>4424.000000</td>\n",
       "      <td>4423.000000</td>\n",
       "      <td>4424.000000</td>\n",
       "      <td>4424.000000</td>\n",
       "      <td>4423.000000</td>\n",
       "      <td>4424.000000</td>\n",
       "      <td>4424.000000</td>\n",
       "      <td>4424.000000</td>\n",
       "      <td>4424.000000</td>\n",
       "    </tr>\n",
       "    <tr>\n",
       "      <th>mean</th>\n",
       "      <td>126.984219</td>\n",
       "      <td>23.265657</td>\n",
       "      <td>0.708795</td>\n",
       "      <td>6.270570</td>\n",
       "      <td>8.299051</td>\n",
       "      <td>4.706600</td>\n",
       "      <td>10.640100</td>\n",
       "      <td>0.137658</td>\n",
       "      <td>0.541817</td>\n",
       "      <td>6.231743</td>\n",
       "      <td>8.063291</td>\n",
       "      <td>4.435805</td>\n",
       "      <td>10.229941</td>\n",
       "      <td>0.150316</td>\n",
       "      <td>11.566139</td>\n",
       "      <td>1.228029</td>\n",
       "      <td>0.001969</td>\n",
       "    </tr>\n",
       "    <tr>\n",
       "      <th>std</th>\n",
       "      <td>14.477954</td>\n",
       "      <td>7.588597</td>\n",
       "      <td>2.359433</td>\n",
       "      <td>2.480178</td>\n",
       "      <td>4.179106</td>\n",
       "      <td>3.094238</td>\n",
       "      <td>4.843973</td>\n",
       "      <td>0.690880</td>\n",
       "      <td>1.918546</td>\n",
       "      <td>2.196038</td>\n",
       "      <td>3.947951</td>\n",
       "      <td>3.014764</td>\n",
       "      <td>5.211367</td>\n",
       "      <td>0.753774</td>\n",
       "      <td>2.663850</td>\n",
       "      <td>1.382711</td>\n",
       "      <td>2.269935</td>\n",
       "    </tr>\n",
       "    <tr>\n",
       "      <th>min</th>\n",
       "      <td>95.000000</td>\n",
       "      <td>17.000000</td>\n",
       "      <td>0.000000</td>\n",
       "      <td>0.000000</td>\n",
       "      <td>0.000000</td>\n",
       "      <td>0.000000</td>\n",
       "      <td>0.000000</td>\n",
       "      <td>0.000000</td>\n",
       "      <td>0.000000</td>\n",
       "      <td>0.000000</td>\n",
       "      <td>0.000000</td>\n",
       "      <td>0.000000</td>\n",
       "      <td>0.000000</td>\n",
       "      <td>0.000000</td>\n",
       "      <td>7.600000</td>\n",
       "      <td>-0.800000</td>\n",
       "      <td>-4.060000</td>\n",
       "    </tr>\n",
       "    <tr>\n",
       "      <th>25%</th>\n",
       "      <td>117.900000</td>\n",
       "      <td>19.000000</td>\n",
       "      <td>0.000000</td>\n",
       "      <td>5.000000</td>\n",
       "      <td>6.000000</td>\n",
       "      <td>3.000000</td>\n",
       "      <td>11.000000</td>\n",
       "      <td>0.000000</td>\n",
       "      <td>0.000000</td>\n",
       "      <td>5.000000</td>\n",
       "      <td>6.000000</td>\n",
       "      <td>2.000000</td>\n",
       "      <td>10.750000</td>\n",
       "      <td>0.000000</td>\n",
       "      <td>9.400000</td>\n",
       "      <td>0.300000</td>\n",
       "      <td>-1.700000</td>\n",
       "    </tr>\n",
       "    <tr>\n",
       "      <th>50%</th>\n",
       "      <td>126.100000</td>\n",
       "      <td>20.000000</td>\n",
       "      <td>0.000000</td>\n",
       "      <td>6.000000</td>\n",
       "      <td>8.000000</td>\n",
       "      <td>5.000000</td>\n",
       "      <td>12.285714</td>\n",
       "      <td>0.000000</td>\n",
       "      <td>0.000000</td>\n",
       "      <td>6.000000</td>\n",
       "      <td>8.000000</td>\n",
       "      <td>5.000000</td>\n",
       "      <td>12.200000</td>\n",
       "      <td>0.000000</td>\n",
       "      <td>11.100000</td>\n",
       "      <td>1.400000</td>\n",
       "      <td>0.320000</td>\n",
       "    </tr>\n",
       "    <tr>\n",
       "      <th>75%</th>\n",
       "      <td>134.800000</td>\n",
       "      <td>25.000000</td>\n",
       "      <td>0.000000</td>\n",
       "      <td>7.000000</td>\n",
       "      <td>10.000000</td>\n",
       "      <td>6.000000</td>\n",
       "      <td>13.399000</td>\n",
       "      <td>0.000000</td>\n",
       "      <td>0.000000</td>\n",
       "      <td>7.000000</td>\n",
       "      <td>10.000000</td>\n",
       "      <td>6.000000</td>\n",
       "      <td>13.333333</td>\n",
       "      <td>0.000000</td>\n",
       "      <td>13.900000</td>\n",
       "      <td>2.600000</td>\n",
       "      <td>1.790000</td>\n",
       "    </tr>\n",
       "    <tr>\n",
       "      <th>max</th>\n",
       "      <td>190.000000</td>\n",
       "      <td>70.000000</td>\n",
       "      <td>20.000000</td>\n",
       "      <td>26.000000</td>\n",
       "      <td>45.000000</td>\n",
       "      <td>26.000000</td>\n",
       "      <td>18.875000</td>\n",
       "      <td>12.000000</td>\n",
       "      <td>19.000000</td>\n",
       "      <td>23.000000</td>\n",
       "      <td>33.000000</td>\n",
       "      <td>20.000000</td>\n",
       "      <td>18.571429</td>\n",
       "      <td>12.000000</td>\n",
       "      <td>16.200000</td>\n",
       "      <td>3.700000</td>\n",
       "      <td>3.510000</td>\n",
       "    </tr>\n",
       "  </tbody>\n",
       "</table>\n",
       "</div>"
      ],
      "text/plain": [
       "       Admission grade  Age at enrollment  \\\n",
       "count      4423.000000        4423.000000   \n",
       "mean        126.984219          23.265657   \n",
       "std          14.477954           7.588597   \n",
       "min          95.000000          17.000000   \n",
       "25%         117.900000          19.000000   \n",
       "50%         126.100000          20.000000   \n",
       "75%         134.800000          25.000000   \n",
       "max         190.000000          70.000000   \n",
       "\n",
       "       Curricular units 1st sem (credited)  \\\n",
       "count                          4423.000000   \n",
       "mean                              0.708795   \n",
       "std                               2.359433   \n",
       "min                               0.000000   \n",
       "25%                               0.000000   \n",
       "50%                               0.000000   \n",
       "75%                               0.000000   \n",
       "max                              20.000000   \n",
       "\n",
       "       Curricular units 1st sem (enrolled)  \\\n",
       "count                          4424.000000   \n",
       "mean                              6.270570   \n",
       "std                               2.480178   \n",
       "min                               0.000000   \n",
       "25%                               5.000000   \n",
       "50%                               6.000000   \n",
       "75%                               7.000000   \n",
       "max                              26.000000   \n",
       "\n",
       "       Curricular units 1st sem (evaluations)  \\\n",
       "count                             4424.000000   \n",
       "mean                                 8.299051   \n",
       "std                                  4.179106   \n",
       "min                                  0.000000   \n",
       "25%                                  6.000000   \n",
       "50%                                  8.000000   \n",
       "75%                                 10.000000   \n",
       "max                                 45.000000   \n",
       "\n",
       "       Curricular units 1st sem (approved)  Curricular units 1st sem (grade)  \\\n",
       "count                          4424.000000                       4423.000000   \n",
       "mean                              4.706600                         10.640100   \n",
       "std                               3.094238                          4.843973   \n",
       "min                               0.000000                          0.000000   \n",
       "25%                               3.000000                         11.000000   \n",
       "50%                               5.000000                         12.285714   \n",
       "75%                               6.000000                         13.399000   \n",
       "max                              26.000000                         18.875000   \n",
       "\n",
       "       Curricular units 1st sem (without evaluations)  \\\n",
       "count                                     4424.000000   \n",
       "mean                                         0.137658   \n",
       "std                                          0.690880   \n",
       "min                                          0.000000   \n",
       "25%                                          0.000000   \n",
       "50%                                          0.000000   \n",
       "75%                                          0.000000   \n",
       "max                                         12.000000   \n",
       "\n",
       "       Curricular units 2nd sem (credited)  \\\n",
       "count                          4424.000000   \n",
       "mean                              0.541817   \n",
       "std                               1.918546   \n",
       "min                               0.000000   \n",
       "25%                               0.000000   \n",
       "50%                               0.000000   \n",
       "75%                               0.000000   \n",
       "max                              19.000000   \n",
       "\n",
       "       Curricular units 2nd sem (enrolled)  \\\n",
       "count                          4423.000000   \n",
       "mean                              6.231743   \n",
       "std                               2.196038   \n",
       "min                               0.000000   \n",
       "25%                               5.000000   \n",
       "50%                               6.000000   \n",
       "75%                               7.000000   \n",
       "max                              23.000000   \n",
       "\n",
       "       Curricular units 2nd sem (evaluations)  \\\n",
       "count                             4424.000000   \n",
       "mean                                 8.063291   \n",
       "std                                  3.947951   \n",
       "min                                  0.000000   \n",
       "25%                                  6.000000   \n",
       "50%                                  8.000000   \n",
       "75%                                 10.000000   \n",
       "max                                 33.000000   \n",
       "\n",
       "       Curricular units 2nd sem (approved)  Curricular units 2nd sem (grade)  \\\n",
       "count                          4424.000000                       4423.000000   \n",
       "mean                              4.435805                         10.229941   \n",
       "std                               3.014764                          5.211367   \n",
       "min                               0.000000                          0.000000   \n",
       "25%                               2.000000                         10.750000   \n",
       "50%                               5.000000                         12.200000   \n",
       "75%                               6.000000                         13.333333   \n",
       "max                              20.000000                         18.571429   \n",
       "\n",
       "       Curricular units 2nd sem (without evaluations)  Unemployment rate  \\\n",
       "count                                     4424.000000        4424.000000   \n",
       "mean                                         0.150316          11.566139   \n",
       "std                                          0.753774           2.663850   \n",
       "min                                          0.000000           7.600000   \n",
       "25%                                          0.000000           9.400000   \n",
       "50%                                          0.000000          11.100000   \n",
       "75%                                          0.000000          13.900000   \n",
       "max                                         12.000000          16.200000   \n",
       "\n",
       "       Inflation rate          GDP  \n",
       "count     4424.000000  4424.000000  \n",
       "mean         1.228029     0.001969  \n",
       "std          1.382711     2.269935  \n",
       "min         -0.800000    -4.060000  \n",
       "25%          0.300000    -1.700000  \n",
       "50%          1.400000     0.320000  \n",
       "75%          2.600000     1.790000  \n",
       "max          3.700000     3.510000  "
      ]
     },
     "execution_count": 19,
     "metadata": {},
     "output_type": "execute_result"
    }
   ],
   "source": [
    "df_students_new.describe()"
   ]
  },
  {
   "cell_type": "markdown",
   "id": "a7f234bc",
   "metadata": {},
   "source": [
    "I establish that all the columns except the \"Age at enrollment\" are evenly distributed so I can proceed by filling each of evenly distributed columns with the mean values from that particular column.\n",
    "\n",
    "As the \"Age at enrollment\" is skewed I will have to use either:\n",
    "back fill (fill the number in the box directly before the missing data)\n",
    "forward fill (fill the number in the box directly after the missing data)\n",
    "Interpolate (fill the number that is the middle of the values in the nox after and the box after the missing data)"
   ]
  },
  {
   "cell_type": "code",
   "execution_count": 20,
   "id": "3311f6d8",
   "metadata": {},
   "outputs": [],
   "source": [
    "df_students_cleaned_1 = df_students_new #make new data sheet for the cleaned data"
   ]
  },
  {
   "cell_type": "markdown",
   "id": "bbc0c661",
   "metadata": {},
   "source": [
    "Below is the code for inserting the mean value into the missing data."
   ]
  },
  {
   "cell_type": "code",
   "execution_count": 21,
   "id": "40aa24c2",
   "metadata": {},
   "outputs": [],
   "source": [
    "df_students_cleaned_1[\"Admission grade\"] = df_students_cleaned_1[\"Admission grade\"].mean()\n",
    "df_students_cleaned_1[\"Curricular units 1st sem (credited)\"] = df_students_cleaned_1[\"Curricular units 1st sem (credited)\"].mean()\n",
    "df_students_cleaned_1[\"Curricular units 1st sem (grade)\"]=df_students_cleaned_1[\"Curricular units 1st sem (grade)\"].mean()\n",
    "df_students_cleaned_1[\"Curricular units 2nd sem (enrolled)\"]=df_students_cleaned_1[\"Curricular units 2nd sem (enrolled)\"].mean()\n",
    "df_students_cleaned_1[\"Curricular units 2nd sem (grade)\"]=df_students_cleaned_1[\"Curricular units 2nd sem (grade)\"].mean()"
   ]
  },
  {
   "cell_type": "markdown",
   "id": "1ed78fa9",
   "metadata": {},
   "source": [
    "I attepted the forward fill, back fill and interpolate. I found the interpolate to provide the best distribution. "
   ]
  },
  {
   "cell_type": "code",
   "execution_count": 22,
   "id": "830021e6",
   "metadata": {},
   "outputs": [],
   "source": [
    "df_students_cleaned_1[\"Age at enrollment_inter\"] = df_students_cleaned_1[\"Age at enrollment\"].interpolate(method = \"linear\", direction = \"forward\")\n",
    "#df_students_cleaned_1[\"Age at enrollment_back\"] = df_students_cleaned_1[\"Age at enrollment\"].fillna(method='bfill')\n",
    "#df_students_cleaned_1[\"Age at enrollment_fwd\"] = df_students_cleaned_1[\"Age at enrollment\"].fillna(method='pad')"
   ]
  },
  {
   "cell_type": "code",
   "execution_count": 23,
   "id": "ff9d4e8a",
   "metadata": {
    "scrolled": true
   },
   "outputs": [
    {
     "data": {
      "text/plain": [
       "array([20., 19., 45., 50., 18., 22., 21., 34., 37., 43., 55., 39., 29.,\n",
       "       24., 27., 23., 26., 33., 35., 25., 44., 36., 47., 28., 38., 30.,\n",
       "       31., 32., 40., 42., 48., 49., 46., 41., 70., 60., 53., 51., 52.,\n",
       "       54., 61., 58., 59., 17., 57., 62.])"
      ]
     },
     "execution_count": 23,
     "metadata": {},
     "output_type": "execute_result"
    }
   ],
   "source": [
    "df_students_cleaned_1[\"Age at enrollment_inter\"].unique() #cleaned "
   ]
  },
  {
   "cell_type": "markdown",
   "id": "a103fbfd",
   "metadata": {},
   "source": [
    "By using interpolate, I created a new column so I must delete the extra column to return the data set to its previous state"
   ]
  },
  {
   "cell_type": "code",
   "execution_count": 24,
   "id": "e8ef7011",
   "metadata": {},
   "outputs": [],
   "source": [
    "df_students_cleaned_1.drop([\"Age at enrollment\"], axis = 1, inplace = True)\n",
    "                            #\"Age at enrollment_fwd\", \"Age at enrollment_back\"]"
   ]
  },
  {
   "cell_type": "code",
   "execution_count": 25,
   "id": "c16654cf",
   "metadata": {},
   "outputs": [
    {
     "data": {
      "text/plain": [
       "(4424, 18)"
      ]
     },
     "execution_count": 25,
     "metadata": {},
     "output_type": "execute_result"
    }
   ],
   "source": [
    "df_students_cleaned_1.shape #checking final shape before PCA"
   ]
  },
  {
   "cell_type": "code",
   "execution_count": 26,
   "id": "e35bc955",
   "metadata": {
    "scrolled": true
   },
   "outputs": [
    {
     "data": {
      "text/plain": [
       "Admission grade                                   0\n",
       "Curricular units 1st sem (credited)               0\n",
       "Curricular units 1st sem (enrolled)               0\n",
       "Curricular units 1st sem (evaluations)            0\n",
       "Curricular units 1st sem (approved)               0\n",
       "Curricular units 1st sem (grade)                  0\n",
       "Curricular units 1st sem (without evaluations)    0\n",
       "Curricular units 2nd sem (credited)               0\n",
       "Curricular units 2nd sem (enrolled)               0\n",
       "Curricular units 2nd sem (evaluations)            0\n",
       "Curricular units 2nd sem (approved)               0\n",
       "Curricular units 2nd sem (grade)                  0\n",
       "Curricular units 2nd sem (without evaluations)    0\n",
       "Unemployment rate                                 0\n",
       "Inflation rate                                    0\n",
       "GDP                                               0\n",
       "Target                                            0\n",
       "Age at enrollment_inter                           0\n",
       "dtype: int64"
      ]
     },
     "execution_count": 26,
     "metadata": {},
     "output_type": "execute_result"
    }
   ],
   "source": [
    "df_students_cleaned_1.isnull().sum() #checking for null values before PCA"
   ]
  },
  {
   "cell_type": "markdown",
   "id": "da2fed5d",
   "metadata": {},
   "source": [
    "PCA - Principal Component Analysis is used to reduce the number of features in a data set. It retains the variance and ensures the signal of the data stays the same. (Zakaria Jaadi Principal, 2024)\n",
    "\n",
    "\n",
    "Reference:\n",
    "\n",
    "Zakaria Jaadi Principal, (2024) - Component Analysis (PCA) Explained | Built In [online] available: https://builtin.com/data-science/step-step-explanation-principal-component-analysis [accessed 3 Apr 2024].\n"
   ]
  },
  {
   "cell_type": "markdown",
   "id": "d6bf6cb9",
   "metadata": {},
   "source": [
    "The Curse of Dimensionality\n",
    "\n",
    "The curse of dimensionality occurs when the amount of high-dimensional data sheets grows exponentially with each extra dimension. Dimensions refer to the amount the features in a data set. The more features in data set, the more diffuse the data set. The available data gets increasingly sparse as the dimensionality of the data rises, causing problems when the analyst attempts perform computational tasks on it. (Karanam, S., 2021)\n",
    "\n",
    "As the the dimensions rise, so does the ability of a machine learning algorithm to compute it. The number of calculations needed to solve an algorithm rises exponentially with more features. For humans to compute such data sets, we must establish the boundaries between the classes. (Yiu, T., 2021)\n",
    "\n",
    "Performing principal component analysis is one way to tackle dimensionality issues in a data set. The process does not drop the columns. It takes the variance from each column and combines it with the variance from other columns. Subsequently, the signal is retained throughout the data set. (Baeldung,  2022) \n",
    "\n",
    "\n",
    "References:\n",
    "\n",
    "Karanam, S. (2021) Curse of Dimensionality — A “Curse” to Machine Learning [online], Medium, available: https://towardsdatascience.com/curse-of-dimensionality-a-curse-to-machine-learning-c122ee33bfeb [accessed 4 Apr 2024].\n",
    "\n",
    "Yiu, T. (2021) The Curse of Dimensionality [online], Medium, available: https://towardsdatascience.com/the-curse-of-dimensionality-50dc6e49aa1e [accessed 4 Apr 2024].\n",
    "\n",
    "Baeldung,  (2022) The Curse of Dimensionality | Baeldung on Computer Science [online] (2022) available: https://www.baeldung.com/cs/curse-of-dimensionality [accessed 4 Apr 2024].  "
   ]
  },
  {
   "cell_type": "code",
   "execution_count": 27,
   "id": "da1a6f4d",
   "metadata": {},
   "outputs": [],
   "source": [
    "#libraries for PCA\n",
    "import numpy as np\n",
    "import matplotlib.pyplot as plt\n",
    "%matplotlib inline\n",
    "sns.set\n",
    "from sklearn.decomposition import PCA"
   ]
  },
  {
   "cell_type": "markdown",
   "id": "6854fc6e",
   "metadata": {},
   "source": [
    "Before PCA the dependant variable has to be removed. The target variable/dependant variable is the result of the data so this needs to remain on its own and not be reduced in the PCA. I used the .drop function to get rid of it for now. ALl the other features are known as independant variables."
   ]
  },
  {
   "cell_type": "code",
   "execution_count": 28,
   "id": "746bc113",
   "metadata": {},
   "outputs": [],
   "source": [
    "#Removing Target_results column to perform pca\n",
    "df_students_cleaned_1_noTarget = df_students_cleaned_1.drop(columns=[\"Target\"])"
   ]
  },
  {
   "cell_type": "code",
   "execution_count": 29,
   "id": "6eaac7b6",
   "metadata": {},
   "outputs": [
    {
     "data": {
      "image/png": "[encoded data removed]",
      "text/plain": [
       "<Figure size 640x480 with 1 Axes>"
      ]
     },
     "metadata": {},
     "output_type": "display_data"
    }
   ],
   "source": [
    "#creating graph to see how how many components i will use going forward. Ie., how many features am i keeping?\n",
    "import matplotlib.ticker as mtick\n",
    "pca = PCA().fit(df_students_cleaned_1_noTarget) \n",
    "plt.plot(np.cumsum(pca.explained_variance_ratio_)) \n",
    "plt.xlabel('number of components') \n",
    "plt.ylabel('cumulative explained variance');\n",
    "plt.gca().yaxis.set_major_formatter(mtick.PercentFormatter(xmax=1.0))"
   ]
  },
  {
   "cell_type": "markdown",
   "id": "6481ec51",
   "metadata": {},
   "source": [
    "I want to retain 100% of the variance so I must use 9 components. This will create a new data sheet with 9 features.\n",
    "\n",
    "n_components = (9)"
   ]
  },
  {
   "cell_type": "code",
   "execution_count": 30,
   "id": "a1fc935a",
   "metadata": {},
   "outputs": [],
   "source": [
    "#n_comp = 9\n",
    "pca = PCA(9)\n",
    "projected = pca.fit_transform(df_students_cleaned_1_noTarget)"
   ]
  },
  {
   "cell_type": "code",
   "execution_count": 31,
   "id": "1b3720ff",
   "metadata": {},
   "outputs": [
    {
     "data": {
      "text/plain": [
       "(4424, 9)"
      ]
     },
     "execution_count": 31,
     "metadata": {},
     "output_type": "execute_result"
    }
   ],
   "source": [
    "#data sheet after PCA\n",
    "projected.shape"
   ]
  },
  {
   "cell_type": "code",
   "execution_count": 32,
   "id": "4e0b636c",
   "metadata": {
    "scrolled": true
   },
   "outputs": [
    {
     "data": {
      "text/plain": [
       "array([[-6.27266117e+00, -1.33784335e+01, -1.05950287e+00, ...,\n",
       "         3.93510996e-01,  3.07810534e-02,  2.62762235e+00],\n",
       "       [-4.77887209e+00, -4.63301324e-01, -2.82189761e+00, ...,\n",
       "        -8.01152384e-01,  1.05565888e+00, -2.91624332e-01],\n",
       "       [-6.68890078e+00, -1.13332095e+01, -2.12292542e+00, ...,\n",
       "         3.28677439e+00,  3.13283794e-01, -1.40876600e+00],\n",
       "       ...,\n",
       "       [ 6.69025724e+00, -1.22521798e+00,  4.03318436e-01, ...,\n",
       "         7.85705667e-01,  1.17694571e+00, -2.22264222e+00],\n",
       "       [-4.07098215e+00, -2.34616185e+00, -1.97785953e+00, ...,\n",
       "        -8.28114342e-01,  2.53803898e+00,  6.59280173e-03],\n",
       "       [-1.46967944e+00, -3.34002409e-02, -1.95786053e+00, ...,\n",
       "        -8.03538896e-01, -2.51003713e+00,  1.92440702e-01]])"
      ]
     },
     "execution_count": 32,
     "metadata": {},
     "output_type": "execute_result"
    }
   ],
   "source": [
    "#new values per feature after performing PCA\n",
    "projected"
   ]
  },
  {
   "cell_type": "markdown",
   "id": "0ac562df",
   "metadata": {},
   "source": [
    "New column headings have to be created for the new values after PCA."
   ]
  },
  {
   "cell_type": "code",
   "execution_count": 33,
   "id": "be8d3332",
   "metadata": {},
   "outputs": [],
   "source": [
    "students_final = pd.DataFrame(projected, columns =[\"C1\",\"C2\",\"C3\",\"C4\",\"C5\", \"C6\",\"C7\",\"C8\",\"C9\"])"
   ]
  },
  {
   "cell_type": "code",
   "execution_count": 34,
   "id": "62a9f02a",
   "metadata": {
    "scrolled": true
   },
   "outputs": [
    {
     "data": {
      "text/html": [
       "<div>\n",
       "<style scoped>\n",
       "    .dataframe tbody tr th:only-of-type {\n",
       "        vertical-align: middle;\n",
       "    }\n",
       "\n",
       "    .dataframe tbody tr th {\n",
       "        vertical-align: top;\n",
       "    }\n",
       "\n",
       "    .dataframe thead th {\n",
       "        text-align: right;\n",
       "    }\n",
       "</style>\n",
       "<table border=\"1\" class=\"dataframe\">\n",
       "  <thead>\n",
       "    <tr style=\"text-align: right;\">\n",
       "      <th></th>\n",
       "      <th>C1</th>\n",
       "      <th>C2</th>\n",
       "      <th>C3</th>\n",
       "      <th>C4</th>\n",
       "      <th>C5</th>\n",
       "      <th>C6</th>\n",
       "      <th>C7</th>\n",
       "      <th>C8</th>\n",
       "      <th>C9</th>\n",
       "    </tr>\n",
       "  </thead>\n",
       "  <tbody>\n",
       "    <tr>\n",
       "      <th>0</th>\n",
       "      <td>-6.272661</td>\n",
       "      <td>-13.378433</td>\n",
       "      <td>-1.059503</td>\n",
       "      <td>-0.931524</td>\n",
       "      <td>-0.330408</td>\n",
       "      <td>1.042985</td>\n",
       "      <td>0.393511</td>\n",
       "      <td>0.030781</td>\n",
       "      <td>2.627622</td>\n",
       "    </tr>\n",
       "    <tr>\n",
       "      <th>1</th>\n",
       "      <td>-4.778872</td>\n",
       "      <td>-0.463301</td>\n",
       "      <td>-2.821898</td>\n",
       "      <td>2.032105</td>\n",
       "      <td>-1.575434</td>\n",
       "      <td>1.086101</td>\n",
       "      <td>-0.801152</td>\n",
       "      <td>1.055659</td>\n",
       "      <td>-0.291624</td>\n",
       "    </tr>\n",
       "    <tr>\n",
       "      <th>2</th>\n",
       "      <td>-6.688901</td>\n",
       "      <td>-11.333210</td>\n",
       "      <td>-2.122925</td>\n",
       "      <td>-0.870163</td>\n",
       "      <td>0.825723</td>\n",
       "      <td>2.238597</td>\n",
       "      <td>3.286774</td>\n",
       "      <td>0.313284</td>\n",
       "      <td>-1.408766</td>\n",
       "    </tr>\n",
       "    <tr>\n",
       "      <th>3</th>\n",
       "      <td>-3.003418</td>\n",
       "      <td>2.006653</td>\n",
       "      <td>0.334324</td>\n",
       "      <td>-0.318778</td>\n",
       "      <td>1.308341</td>\n",
       "      <td>-3.593027</td>\n",
       "      <td>-0.705289</td>\n",
       "      <td>2.464226</td>\n",
       "      <td>-0.484675</td>\n",
       "    </tr>\n",
       "    <tr>\n",
       "      <th>4</th>\n",
       "      <td>20.939965</td>\n",
       "      <td>-4.646655</td>\n",
       "      <td>-3.113705</td>\n",
       "      <td>1.660340</td>\n",
       "      <td>-1.700260</td>\n",
       "      <td>1.421571</td>\n",
       "      <td>-3.238221</td>\n",
       "      <td>0.535253</td>\n",
       "      <td>0.030516</td>\n",
       "    </tr>\n",
       "  </tbody>\n",
       "</table>\n",
       "</div>"
      ],
      "text/plain": [
       "          C1         C2        C3        C4        C5        C6        C7  \\\n",
       "0  -6.272661 -13.378433 -1.059503 -0.931524 -0.330408  1.042985  0.393511   \n",
       "1  -4.778872  -0.463301 -2.821898  2.032105 -1.575434  1.086101 -0.801152   \n",
       "2  -6.688901 -11.333210 -2.122925 -0.870163  0.825723  2.238597  3.286774   \n",
       "3  -3.003418   2.006653  0.334324 -0.318778  1.308341 -3.593027 -0.705289   \n",
       "4  20.939965  -4.646655 -3.113705  1.660340 -1.700260  1.421571 -3.238221   \n",
       "\n",
       "         C8        C9  \n",
       "0  0.030781  2.627622  \n",
       "1  1.055659 -0.291624  \n",
       "2  0.313284 -1.408766  \n",
       "3  2.464226 -0.484675  \n",
       "4  0.535253  0.030516  "
      ]
     },
     "execution_count": 34,
     "metadata": {},
     "output_type": "execute_result"
    }
   ],
   "source": [
    "#Show first observations in new data sheet.\n",
    "students_final.head()"
   ]
  },
  {
   "cell_type": "markdown",
   "id": "149126de",
   "metadata": {},
   "source": [
    "Now I add back the Target column. "
   ]
  },
  {
   "cell_type": "code",
   "execution_count": 35,
   "id": "52719ef6",
   "metadata": {},
   "outputs": [],
   "source": [
    "students_final[\"Target_result\"] = df_students_new[\"Target\"]"
   ]
  },
  {
   "cell_type": "code",
   "execution_count": 36,
   "id": "4f8c968f",
   "metadata": {
    "scrolled": true
   },
   "outputs": [
    {
     "data": {
      "text/plain": [
       "array(['Dropout', 'Graduate', 'Enrolled', 'Grad', 'graduate', 'Drop',\n",
       "       'dropout'], dtype=object)"
      ]
     },
     "execution_count": 36,
     "metadata": {},
     "output_type": "execute_result"
    }
   ],
   "source": [
    "students_final[\"Target_result\"].unique()"
   ]
  },
  {
   "cell_type": "markdown",
   "id": "c7571522",
   "metadata": {},
   "source": [
    "As the Target column need to have three values, I used the follwing code to store new values for the old misentered values."
   ]
  },
  {
   "cell_type": "code",
   "execution_count": 37,
   "id": "3d477a57",
   "metadata": {},
   "outputs": [],
   "source": [
    "#Fixing the Target column\n",
    "Drop_Out = \"Drop Out\"\n",
    "Graduated = \"Graduated\"\n",
    "students_final[\"Target_result\"] = students_final[\"Target_result\"].replace({\"Dropout\": Drop_Out,\"dropout\" : Drop_Out,\"Drop\":Drop_Out, \"Graduate\": Graduated, \"graduate\": Graduated, \"Grad\" : Graduated  })"
   ]
  },
  {
   "cell_type": "code",
   "execution_count": 38,
   "id": "42529245",
   "metadata": {},
   "outputs": [
    {
     "data": {
      "text/plain": [
       "array(['Drop Out', 'Graduated', 'Enrolled'], dtype=object)"
      ]
     },
     "execution_count": 38,
     "metadata": {},
     "output_type": "execute_result"
    }
   ],
   "source": [
    "students_final[\"Target_result\"].unique()"
   ]
  },
  {
   "cell_type": "markdown",
   "id": "df00fd6b",
   "metadata": {},
   "source": [
    "To be ready for a machine learning algorithim, The data must all be in numerical format. Machine learning is essentially just a sequence of adding, subtracting, multiplying and dividing numbers. Subsequently, arithmetic cannot be performed on string data. I must the encode the string data with integer values. We are basically using the indepandant varibale to teach the machine learning algorithin what dependant varible should be. (Kapoor, D.A. ,2022)\n",
    "\n",
    "I use the Label Encoder library to perform this task. \n",
    "\n",
    "Reference:\n",
    "\n",
    "Kapoor, D.A. (2022) Independent and Dependent Variables in Machine Learning [online], Medium, available: https://medium.com/deeplearning-concepts-and-implementation/independent-and-dependent-variables-in-machine-learning-210b82f891db [accessed 3 Apr 2024].\n"
   ]
  },
  {
   "cell_type": "code",
   "execution_count": 39,
   "id": "15f3980c",
   "metadata": {},
   "outputs": [],
   "source": [
    "from sklearn.preprocessing import LabelEncoder\n",
    "encoder = LabelEncoder()\n",
    "students_final[\"Target_result\"] = encoder.fit_transform(students_final[\"Target_result\"])"
   ]
  },
  {
   "cell_type": "code",
   "execution_count": 40,
   "id": "ee00bae0",
   "metadata": {},
   "outputs": [
    {
     "data": {
      "text/plain": [
       "array([0, 2, 1])"
      ]
     },
     "execution_count": 40,
     "metadata": {},
     "output_type": "execute_result"
    }
   ],
   "source": [
    "#New Encoded data\n",
    "students_final[\"Target_result\"].unique()"
   ]
  },
  {
   "cell_type": "code",
   "execution_count": 41,
   "id": "d412b7e1",
   "metadata": {},
   "outputs": [
    {
     "data": {
      "text/plain": [
       "C1               0\n",
       "C2               0\n",
       "C3               0\n",
       "C4               0\n",
       "C5               0\n",
       "C6               0\n",
       "C7               0\n",
       "C8               0\n",
       "C9               0\n",
       "Target_result    0\n",
       "dtype: int64"
      ]
     },
     "execution_count": 41,
     "metadata": {},
     "output_type": "execute_result"
    }
   ],
   "source": [
    "#Checking all columns have no null data I begin testing.\n",
    "students_final.isnull().sum()"
   ]
  },
  {
   "cell_type": "code",
   "execution_count": 42,
   "id": "bc4cefe1",
   "metadata": {},
   "outputs": [
    {
     "data": {
      "text/plain": [
       "array([[-6.27266117e+00, -1.33784335e+01, -1.05950287e+00, ...,\n",
       "         3.07810534e-02,  2.62762235e+00,  0.00000000e+00],\n",
       "       [-4.77887209e+00, -4.63301324e-01, -2.82189761e+00, ...,\n",
       "         1.05565888e+00, -2.91624332e-01,  2.00000000e+00],\n",
       "       [-6.68890078e+00, -1.13332095e+01, -2.12292542e+00, ...,\n",
       "         3.13283794e-01, -1.40876600e+00,  0.00000000e+00],\n",
       "       ...,\n",
       "       [ 6.69025724e+00, -1.22521798e+00,  4.03318436e-01, ...,\n",
       "         1.17694571e+00, -2.22264222e+00,  0.00000000e+00],\n",
       "       [-4.07098215e+00, -2.34616185e+00, -1.97785953e+00, ...,\n",
       "         2.53803898e+00,  6.59280173e-03,  2.00000000e+00],\n",
       "       [-1.46967944e+00, -3.34002409e-02, -1.95786053e+00, ...,\n",
       "        -2.51003713e+00,  1.92440702e-01,  2.00000000e+00]])"
      ]
     },
     "execution_count": 42,
     "metadata": {},
     "output_type": "execute_result"
    }
   ],
   "source": [
    "#New feature values after PCA. \n",
    "students_array= students_final.values\n",
    "students_array"
   ]
  },
  {
   "cell_type": "code",
   "execution_count": 43,
   "id": "bfefb9eb",
   "metadata": {},
   "outputs": [
    {
     "data": {
      "text/plain": [
       "(4424, 10)"
      ]
     },
     "execution_count": 43,
     "metadata": {},
     "output_type": "execute_result"
    }
   ],
   "source": [
    "students_array.shape"
   ]
  },
  {
   "cell_type": "markdown",
   "id": "7f08794f",
   "metadata": {},
   "source": [
    "Next I train and test the data using the sklearn.model_selection library. Some of the data gets sent for testing and some gets setn for training. "
   ]
  },
  {
   "cell_type": "code",
   "execution_count": 44,
   "id": "ed886192",
   "metadata": {},
   "outputs": [],
   "source": [
    "from sklearn.model_selection import train_test_split\n",
    "X = students_array[:,0:9]\n",
    "y = students_array[:,9]\n",
    "X_train, X_validation, Y_train, Y_validation = train_test_split(X, y, test_size=0.20, random_state=1)"
   ]
  },
  {
   "cell_type": "code",
   "execution_count": 45,
   "id": "7f59b041",
   "metadata": {},
   "outputs": [],
   "source": [
    "#Libraries to test model\n",
    "from matplotlib import pyplot\n",
    "from sklearn.model_selection import train_test_split\n",
    "from sklearn.model_selection import cross_val_score\n",
    "from sklearn.model_selection import StratifiedKFold\n",
    "from sklearn.linear_model import LogisticRegression\n",
    "from sklearn.tree import DecisionTreeClassifier\n",
    "from sklearn.neighbors import KNeighborsClassifier\n",
    "from sklearn.discriminant_analysis import LinearDiscriminantAnalysis\n",
    "from sklearn.naive_bayes import GaussianNB\n",
    "from sklearn.metrics import classification_report\n",
    "from sklearn.metrics import confusion_matrix\n",
    "from sklearn.metrics import accuracy_score\n",
    "from sklearn.svm import SVC"
   ]
  },
  {
   "cell_type": "code",
   "execution_count": 46,
   "id": "11e2ae29",
   "metadata": {},
   "outputs": [],
   "source": [
    "models = []\n",
    "models.append(('LR', LogisticRegression(solver='liblinear', multi_class='ovr')))\n",
    "models.append(('LDA', LinearDiscriminantAnalysis()))\n",
    "models.append(('KNN', KNeighborsClassifier()))\n",
    "models.append(('CART', DecisionTreeClassifier()))\n",
    "models.append(('NB', GaussianNB()))\n",
    "models.append(('SVM', SVC(gamma='auto')))"
   ]
  },
  {
   "cell_type": "code",
   "execution_count": 47,
   "id": "4b4ae867",
   "metadata": {},
   "outputs": [
    {
     "name": "stdout",
     "output_type": "stream",
     "text": [
      "LR: 0.727882 (0.017110)\n",
      "LDA: 0.729868 (0.018198)\n",
      "KNN: 0.697929 (0.016132)\n",
      "CART: 0.652433 (0.021426)\n",
      "NB: 0.685220 (0.021865)\n",
      "SVM: 0.702462 (0.012417)\n"
     ]
    }
   ],
   "source": [
    "results = []\n",
    "names = []\n",
    "for name, model in models:\n",
    "\tkfold = StratifiedKFold(n_splits=9, random_state=1, shuffle=True)\n",
    "\tcv_results = cross_val_score(model, X_train, Y_train, cv=kfold, scoring='accuracy')\n",
    "\tresults.append(cv_results)\n",
    "\tnames.append(name)\n",
    "\tprint('%s: %f (%f)' % (name, cv_results.mean(), cv_results.std()))"
   ]
  },
  {
   "cell_type": "code",
   "execution_count": 48,
   "id": "e960ca8b",
   "metadata": {
    "scrolled": true
   },
   "outputs": [
    {
     "data": {
      "image/png": "[encoded data removed]",
      "text/plain": [
       "<Figure size 640x480 with 1 Axes>"
      ]
     },
     "metadata": {},
     "output_type": "display_data"
    }
   ],
   "source": [
    "pyplot.boxplot(results, labels=names)\n",
    "pyplot.title('Algorithm Comparison')\n",
    "pyplot.show()"
   ]
  },
  {
   "cell_type": "code",
   "execution_count": 49,
   "id": "8ee455c7",
   "metadata": {},
   "outputs": [],
   "source": [
    "model = LogisticRegression(solver='liblinear', multi_class='ovr')\n",
    "model.fit(X_train, Y_train)\n",
    "predictions = model.predict(X_validation)"
   ]
  },
  {
   "cell_type": "code",
   "execution_count": 50,
   "id": "ce0a2c20",
   "metadata": {},
   "outputs": [
    {
     "name": "stdout",
     "output_type": "stream",
     "text": [
      "0.7435028248587571\n",
      "[[219  14  41]\n",
      " [ 48  23  96]\n",
      " [ 19   9 416]]\n"
     ]
    }
   ],
   "source": [
    "print(accuracy_score(Y_validation, predictions))\n",
    "print(confusion_matrix(Y_validation, predictions))"
   ]
  }
 ],
 "metadata": {
  "kernelspec": {
   "display_name": "Python 3 (ipykernel)",
   "language": "python",
   "name": "python3"
  },
  "language_info": {
   "codemirror_mode": {
    "name": "ipython",
    "version": 3
   },
   "file_extension": ".py",
   "mimetype": "text/x-python",
   "name": "python",
   "nbconvert_exporter": "python",
   "pygments_lexer": "ipython3",
   "version": "3.11.5"
  }
 },
 "nbformat": 4,
 "nbformat_minor": 5
}
